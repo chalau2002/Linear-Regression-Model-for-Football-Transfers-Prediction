{
  "cells": [
    {
      "cell_type": "markdown",
      "metadata": {
        "id": "khovsrufOd72"
      },
      "source": [
        "## Introdução\n",
        "\n",
        "Para este trabalho, decidi recorrer à base de dados do **Transfermarkt**, disponibilizada e atualizada semanalmente no **Kaggle**: [https://www.kaggle.com/datasets/davidcariboo/player-scores](https://www.kaggle.com/datasets/davidcariboo/player-scores).\n",
        "\n",
        "Esta base de dados foi inicialmente é disponibilizada em formato **CSV** e encontra-se organizada em múltiplas tabelas com diferentes tipos de informação relevante para o contexto futebolístico. Das tabelas disponíveis, as que vou utilizar neste trabalho são as seguintes:\n",
        "\n",
        "- **`players`**: Contém informação básica sobre jogadores, incluindo nome, nacionalidade, data de nascimento, altura, posição, entre outros dados.\n",
        "- **`clubs`**: Inclui dados dos clubes, como nome, liga associada e estatísticas relativas aos clubes e plantéis.\n",
        "- **`transfers`**: Descreve as transferências de jogadores entre clubes, com datas, valores, clubes de origem e destino.\n",
        "\n",
        "Neste projeto, o objetivo principal é aplicar um modelo de regressão linear para prever o valor monetário pago nas transferências de jogadores de futebol entre clubes. Através da integração de múltiplas fontes de dados, pretende-se construir um conjunto de treino consistente, identificar as variáveis mais relevantes e avaliar o desempenho do modelo com base em métricas apropriadas.\n",
        "\n",
        "Além disso, importa referir que os dados dos clubes disponíveis no dataset correspondem ao estado atual dos clubes e não à sua situação no momento exato de cada transferência. Apesar desta limitação, o meu objetivo neste trabalho inclui também analisar o impacto que as características do clube comprador podem ter no valor de transferência dos jogadores. Para isso, serão considerados dois cenários distintos:\n",
        "\n",
        "- **Cenário 1**: Previsão do valor de transferência com base exclusivamente nos dados dos jogadores e da própria transferência.\n",
        "\n",
        "- **Cenário 2**: Previsão do valor de transferência com base nos dados dos jogadores, transferências e características dos clubes compradores, **apenas para transferências ocorridas na época mais recente**, de forma a minimizar o desfasamento temporal entre os dados do clube e o evento da transferência."
      ]
    },
    {
      "cell_type": "code",
      "execution_count": 328,
      "metadata": {
        "id": "fdd5ySOrOd76"
      },
      "outputs": [],
      "source": [
        "import pandas as pd\n",
        "import sys\n",
        "import numpy as np\n",
        "import seaborn as sns\n",
        "\n",
        "import matplotlib.pyplot as plt\n",
        "from datetime import datetime"
      ]
    },
    {
      "cell_type": "markdown",
      "metadata": {
        "id": "P8RhPOSMOd77"
      },
      "source": [
        "Comecei por ler os ficheiros csv de cada tabela."
      ]
    },
    {
      "cell_type": "code",
      "execution_count": 329,
      "metadata": {
        "id": "_e1f3Ff3Od77"
      },
      "outputs": [],
      "source": [
        "# Ler CSVs\n",
        "players = pd.read_csv('/players.csv')\n",
        "clubs = pd.read_csv('/clubs.csv')\n",
        "transfers = pd.read_csv('/transfers.csv')"
      ]
    },
    {
      "cell_type": "markdown",
      "metadata": {
        "id": "NwU-ixmmOd77"
      },
      "source": [
        "De seguida verifiquei as colunas dos datasets para ver quais podem ser úteis para o trabalho."
      ]
    },
    {
      "cell_type": "code",
      "execution_count": 330,
      "metadata": {
        "colab": {
          "base_uri": "https://localhost:8080/"
        },
        "id": "I5V3HFopOd78",
        "outputId": "87ff9282-687e-4292-aa26-baa3f8289419"
      },
      "outputs": [
        {
          "name": "stdout",
          "output_type": "stream",
          "text": [
            "Index(['player_id', 'first_name', 'last_name', 'name', 'last_season',\n",
            "       'current_club_id', 'player_code', 'country_of_birth', 'city_of_birth',\n",
            "       'country_of_citizenship', 'date_of_birth', 'sub_position', 'position',\n",
            "       'foot', 'height_in_cm', 'contract_expiration_date', 'agent_name',\n",
            "       'image_url', 'url', 'current_club_domestic_competition_id',\n",
            "       'current_club_name', 'market_value_in_eur',\n",
            "       'highest_market_value_in_eur'],\n",
            "      dtype='object')\n",
            "Index(['club_id', 'club_code', 'name', 'domestic_competition_id',\n",
            "       'total_market_value', 'squad_size', 'average_age', 'foreigners_number',\n",
            "       'foreigners_percentage', 'national_team_players', 'stadium_name',\n",
            "       'stadium_seats', 'net_transfer_record', 'coach_name', 'last_season',\n",
            "       'filename', 'url'],\n",
            "      dtype='object')\n",
            "Index(['player_id', 'transfer_date', 'transfer_season', 'from_club_id',\n",
            "       'to_club_id', 'from_club_name', 'to_club_name', 'transfer_fee',\n",
            "       'market_value_in_eur', 'player_name'],\n",
            "      dtype='object')\n"
          ]
        }
      ],
      "source": [
        "print(players.columns)\n",
        "print(clubs.columns)\n",
        "print(transfers.columns)"
      ]
    },
    {
      "cell_type": "markdown",
      "metadata": {
        "id": "F-u4pODUOd79"
      },
      "source": [
        "Após o carregamento dos datasets individuais, foi necessário integrá-los para construir um único conjunto de dados com toda a informação relevante por transferência. Para isso:\n",
        "\n",
        "1. Foi feita uma junção (`merge`) entre os datasets `transfers` e `players`, com base no `player_id`, de forma a associar a cada transferência os dados do jogador correspondente.\n",
        "2. Em seguida, foi feita a junção com o dataset `clubs` para obter as informações do clube de origem da transferência. Para evitar conflitos de nomes de colunas, estas foram renomeadas com o sufixo `_from`.\n",
        "3. Finalmente, foi feita uma segunda junção com o mesmo dataset `clubs`, desta vez para obter os dados do clube de destino, com as colunas renomeadas com o sufixo `_to`.\n",
        "\n",
        "Este processo permitiu reunir, numa única tabela, dados detalhados sobre o jogador, o clube de origem, o clube de destino e a própria transferência.\n"
      ]
    },
    {
      "cell_type": "code",
      "execution_count": 331,
      "metadata": {
        "id": "n975QNKtOd79"
      },
      "outputs": [],
      "source": [
        "df = transfers.merge(players, on='player_id', how='inner')\n",
        "\n",
        "# Renomear colunas para o clube de origem\n",
        "clubs_from = clubs.rename(lambda x: f\"{x}_from\" if x != 'club_id' else x, axis=1)\n",
        "df = df.merge(clubs_from, left_on='from_club_id', right_on='club_id', how='left')\n",
        "\n",
        "# Renomear colunas para o clube de destino\n",
        "clubs_to = clubs.rename(lambda x: f\"{x}_to\" if x != 'club_id' else x, axis=1)\n",
        "df = df.merge(clubs_to, left_on='to_club_id', right_on='club_id', how='left')"
      ]
    },
    {
      "cell_type": "markdown",
      "metadata": {
        "id": "PMCrqvOsOd79"
      },
      "source": [
        "Após a junção dos datasets, o DataFrame resultante continha diversas colunas redundantes, irrelevantes ou que não acrescentavam valor preditivo ao modelo. Filtrei aquelas que poderiam trazer valor para a análise em questão."
      ]
    },
    {
      "cell_type": "code",
      "execution_count": 332,
      "metadata": {
        "id": "43-h0hIaOd79"
      },
      "outputs": [],
      "source": [
        "# Lista de colunas a manter\n",
        "columns_to_keep = ['transfer_date', 'transfer_fee', 'date_of_birth', 'position', 'sub_position', 'foot', 'height_in_cm', 'market_value_in_eur_y', 'highest_market_value_in_eur', 'domestic_competition_id_from',\n",
        "'total_market_value_from', 'net_transfer_record_from',\n",
        "'domestic_competition_id_to', 'total_market_value_to', 'squad_size_to', 'average_age_to', 'foreigners_percentage_to', 'national_team_players_to', 'net_transfer_record_to']\n",
        "\n",
        "# Filtrar o DataFrame\n",
        "df = df[columns_to_keep]\n"
      ]
    },
    {
      "cell_type": "markdown",
      "metadata": {
        "id": "ecvw4GIUOd7-"
      },
      "source": [
        "As colunas removidas enquadram-se nas seguintes categorias:\n",
        "\n",
        "- **Identificadores arbitrários e ids**: colunas como `player_id`, `club_id_x`, `club_id_y`, `from_club_id`, `to_club_id`, `current_club_id`, `player_code`, `club_code_from`, `club_code_to` não possuem qualquer significado preditivo direto e introduzem apenas ruído. \n",
        "\n",
        "- **Coluna da nacionalidade (`country_of_citizenship`)**: apesar de ser uma variável categórica potencialmente relevante, a sua elevada cardinalidade (número de categorias distintas) implicaria a criação de um número elevado de variáveis dummies após codificação.\n",
        "\n",
        "- **Nomes próprios, URLs e metadados**: variáveis como `first_name`, `last_name`, `name`, `player_name`, `url`, `image_url`, `filename_from`, `filename_to`, `url_from`, `url_to`, `stadium_name_*`, `coach_name_*` são informativas apenas a nível descritivo e não contribuem para a previsão do valor de transferência.\n",
        "\n",
        "- **Dados redundantes ou duplicados**: foram eliminadas colunas como `market_value_in_eur_x` (duplicado de outra variável mais atualizada) e `last_season`, `last_season_from`, `last_season_to`, que não acrescentam valor adicional ao modelo.\n",
        "\n",
        "- **Informação altamente granular**: como `city_of_birth`, `country_of_birth`, cuja variabilidade é extremamente elevada e cuja relação com o valor de transferência é, na maioria dos casos, irrelevante ou indireta.\n",
        "\n",
        "- **Estatísticas dos clubes de origem**: removidas colunas como `squad_size_from`, `average_age_from`, `foreigners_number_from`, entre outras. Optou-se por manter apenas as estatísticas dos clubes de destino, por se considerar que refletem melhor o contexto de valorização do jogador no momento da transferência.\n",
        "\n",
        "Este processo de filtragem visou não só reduzir a dimensionalidade do dataset, mas sobretudo eliminar redundâncias e garantir que apenas variáveis potencialmente explicativas são utilizadas na construção do modelo."
      ]
    },
    {
      "cell_type": "markdown",
      "metadata": {
        "id": "1IYQuZw1Od7-"
      },
      "source": [
        "Verifiquei as colunas que o df tem após estas alterações."
      ]
    },
    {
      "cell_type": "code",
      "execution_count": 333,
      "metadata": {
        "colab": {
          "base_uri": "https://localhost:8080/"
        },
        "id": "-33MAk3POd7-",
        "outputId": "fdad00d9-ec26-4784-94de-4546eb35cda0"
      },
      "outputs": [
        {
          "name": "stdout",
          "output_type": "stream",
          "text": [
            "Index(['transfer_date', 'transfer_fee', 'date_of_birth', 'position',\n",
            "       'sub_position', 'foot', 'height_in_cm', 'market_value_in_eur_y',\n",
            "       'highest_market_value_in_eur', 'domestic_competition_id_from',\n",
            "       'total_market_value_from', 'net_transfer_record_from',\n",
            "       'domestic_competition_id_to', 'total_market_value_to', 'squad_size_to',\n",
            "       'average_age_to', 'foreigners_percentage_to',\n",
            "       'national_team_players_to', 'net_transfer_record_to'],\n",
            "      dtype='object')\n"
          ]
        }
      ],
      "source": [
        "print(df.columns)"
      ]
    },
    {
      "cell_type": "markdown",
      "metadata": {
        "id": "p7b-T25VOd7-"
      },
      "source": [
        "Para enriquecer o conjunto de dados com informação temporal relevante, foram aplicadas transformações sobre as colunas `transfer_date` e `date_of_birth`:\n",
        "\n",
        "- **Extração do ano e mês da transferência**: a partir da coluna `transfer_date`, foram criadas duas novas variáveis — `transfer_date_year` e `transfer_date_month`. Estas variáveis permitem capturar padrões sazonais e tendências temporais do mercado de transferências.\n",
        "\n",
        "- **Cálculo da idade do jogador**: foi criada a variável `player_age`, calculada com base na diferença entre `transfer_date` e `date_of_birth`. A idade do jogador no momento da transferência é uma variável crítica na valorização de atletas.\n",
        "\n",
        "Após a extração da informação necessária, as colunas originais `transfer_date` e `date_of_birth` foram removidas, por já não serem necessárias no modelo.\n"
      ]
    },
    {
      "cell_type": "code",
      "execution_count": 334,
      "metadata": {
        "id": "ooSdbV7AOd7_"
      },
      "outputs": [],
      "source": [
        "# Garantir que as colunas estão em formato datetime\n",
        "df['transfer_date'] = pd.to_datetime(df['transfer_date'], errors='coerce')\n",
        "df['date_of_birth'] = pd.to_datetime(df['date_of_birth'], errors='coerce')\n",
        "\n",
        "# 1. Extrair ano e mês da data de transferência\n",
        "df['transfer_date_year'] = df['transfer_date'].dt.year\n",
        "df['transfer_date_month'] = df['transfer_date'].dt.month\n",
        "\n",
        "# 2. Calcular idade do jogador no momento da transferência\n",
        "df['player_age'] = (df['transfer_date'] - df['date_of_birth']).dt.days // 365\n",
        "\n",
        "# 3. Remover colunas que já não são necessárias\n",
        "df.drop(columns=['date_of_birth','transfer_date'], inplace=True)\n"
      ]
    },
    {
      "cell_type": "markdown",
      "metadata": {
        "id": "FBvpKIyGOd7_"
      },
      "source": [
        "Removi as linhas do dataset que não tinham registos para a variável que pretendemos prever."
      ]
    },
    {
      "cell_type": "code",
      "execution_count": 335,
      "metadata": {
        "id": "a6xl485cOd7_"
      },
      "outputs": [],
      "source": [
        "# 1. Remover linhas sem variável target\n",
        "df = df[df['transfer_fee'].notnull()]"
      ]
    },
    {
      "cell_type": "markdown",
      "metadata": {
        "id": "Sy3WJjgJOd7_"
      },
      "source": [
        "No conjunto de dados original, existem diversas transferências registadas com um valor monetário de `0`, correspondendo a situações em que o jogador foi transferido gratuitamente — geralmente por fim de contrato.\n",
        "\n",
        "No entanto, o dataset não inclui variáveis relacionadas com o contexto contratual dos jogadores, como:\n",
        "- Tempo restante de contrato\n",
        "- Estado contratual (livre, emprestado, etc.)\n",
        "- Cláusulas de rescisão ou penalizações\n",
        "\n",
        "Dado que estas transferências gratuitas não refletem diretamente o valor de mercado ou as variáveis desportivas do jogador, a sua presença poderia enviesar o modelo. Sem essa informação contratual, o modelo tentaria justificar valores `0` com base em variáveis como idade, clube ou valor de mercado, o que introduziria ruído e distorceria os coeficientes da regressão.\n",
        "\n",
        "Assim, optei por remover todas as transferências com `transfer_fee = 0`, mantendo apenas aquelas em que houve efetivamente um valor monetário associado à transação. Esta decisão visa garantir a robustez e fiabilidade do modelo preditivo.\n"
      ]
    },
    {
      "cell_type": "code",
      "execution_count": 336,
      "metadata": {
        "colab": {
          "base_uri": "https://localhost:8080/",
          "height": 489
        },
        "id": "yXAqttf8Od7_",
        "outputId": "39acffd7-2b31-4052-9c2a-9137024633b1"
      },
      "outputs": [
        {
          "data": {
            "text/html": [
              "<div>\n",
              "<style scoped>\n",
              "    .dataframe tbody tr th:only-of-type {\n",
              "        vertical-align: middle;\n",
              "    }\n",
              "\n",
              "    .dataframe tbody tr th {\n",
              "        vertical-align: top;\n",
              "    }\n",
              "\n",
              "    .dataframe thead th {\n",
              "        text-align: right;\n",
              "    }\n",
              "</style>\n",
              "<table border=\"1\" class=\"dataframe\">\n",
              "  <thead>\n",
              "    <tr style=\"text-align: right;\">\n",
              "      <th></th>\n",
              "      <th>count</th>\n",
              "    </tr>\n",
              "    <tr>\n",
              "      <th>transfer_fee</th>\n",
              "      <th></th>\n",
              "    </tr>\n",
              "  </thead>\n",
              "  <tbody>\n",
              "    <tr>\n",
              "      <th>0.0</th>\n",
              "      <td>42406</td>\n",
              "    </tr>\n",
              "    <tr>\n",
              "      <th>1000000.0</th>\n",
              "      <td>370</td>\n",
              "    </tr>\n",
              "    <tr>\n",
              "      <th>500000.0</th>\n",
              "      <td>369</td>\n",
              "    </tr>\n",
              "    <tr>\n",
              "      <th>2000000.0</th>\n",
              "      <td>356</td>\n",
              "    </tr>\n",
              "    <tr>\n",
              "      <th>3000000.0</th>\n",
              "      <td>283</td>\n",
              "    </tr>\n",
              "    <tr>\n",
              "      <th>...</th>\n",
              "      <td>...</td>\n",
              "    </tr>\n",
              "    <tr>\n",
              "      <th>1780000.0</th>\n",
              "      <td>1</td>\n",
              "    </tr>\n",
              "    <tr>\n",
              "      <th>3060000.0</th>\n",
              "      <td>1</td>\n",
              "    </tr>\n",
              "    <tr>\n",
              "      <th>1240000.0</th>\n",
              "      <td>1</td>\n",
              "    </tr>\n",
              "    <tr>\n",
              "      <th>28100000.0</th>\n",
              "      <td>1</td>\n",
              "    </tr>\n",
              "    <tr>\n",
              "      <th>14300000.0</th>\n",
              "      <td>1</td>\n",
              "    </tr>\n",
              "  </tbody>\n",
              "</table>\n",
              "<p>987 rows × 1 columns</p>\n",
              "</div><br><label><b>dtype:</b> int64</label>"
            ],
            "text/plain": [
              "transfer_fee\n",
              "0.0           42406\n",
              "1000000.0       370\n",
              "500000.0        369\n",
              "2000000.0       356\n",
              "3000000.0       283\n",
              "              ...  \n",
              "1780000.0         1\n",
              "3060000.0         1\n",
              "1240000.0         1\n",
              "28100000.0        1\n",
              "14300000.0        1\n",
              "Name: count, Length: 987, dtype: int64"
            ]
          },
          "execution_count": 336,
          "metadata": {},
          "output_type": "execute_result"
        }
      ],
      "source": [
        "df['transfer_fee'].value_counts()"
      ]
    },
    {
      "cell_type": "code",
      "execution_count": 337,
      "metadata": {
        "id": "mjElVF7xOd8A"
      },
      "outputs": [],
      "source": [
        "df = df[df['transfer_fee'] > 0]"
      ]
    },
    {
      "cell_type": "markdown",
      "metadata": {
        "id": "TlBMxHoqOd8A"
      },
      "source": [
        "De seguida verifiquei algumas informações do dataset."
      ]
    },
    {
      "cell_type": "code",
      "execution_count": 338,
      "metadata": {
        "colab": {
          "base_uri": "https://localhost:8080/"
        },
        "id": "htD0Ifk7Od8A",
        "outputId": "13e26a97-1ce6-44d3-c07c-37fc104ba976"
      },
      "outputs": [
        {
          "name": "stdout",
          "output_type": "stream",
          "text": [
            "(9502, 20)\n",
            "<class 'pandas.core.frame.DataFrame'>\n",
            "Index: 9502 entries, 1 to 79367\n",
            "Data columns (total 20 columns):\n",
            " #   Column                        Non-Null Count  Dtype  \n",
            "---  ------                        --------------  -----  \n",
            " 0   transfer_fee                  9502 non-null   float64\n",
            " 1   position                      9502 non-null   object \n",
            " 2   sub_position                  9502 non-null   object \n",
            " 3   foot                          9451 non-null   object \n",
            " 4   height_in_cm                  9467 non-null   float64\n",
            " 5   market_value_in_eur_y         9490 non-null   float64\n",
            " 6   highest_market_value_in_eur   9490 non-null   float64\n",
            " 7   domestic_competition_id_from  5768 non-null   object \n",
            " 8   total_market_value_from       0 non-null      float64\n",
            " 9   net_transfer_record_from      5768 non-null   object \n",
            " 10  domestic_competition_id_to    7718 non-null   object \n",
            " 11  total_market_value_to         0 non-null      float64\n",
            " 12  squad_size_to                 7718 non-null   float64\n",
            " 13  average_age_to                7685 non-null   float64\n",
            " 14  foreigners_percentage_to      7655 non-null   float64\n",
            " 15  national_team_players_to      7718 non-null   float64\n",
            " 16  net_transfer_record_to        7718 non-null   object \n",
            " 17  transfer_date_year            9502 non-null   int32  \n",
            " 18  transfer_date_month           9502 non-null   int32  \n",
            " 19  player_age                    9500 non-null   float64\n",
            "dtypes: float64(11), int32(2), object(7)\n",
            "memory usage: 1.4+ MB\n"
          ]
        }
      ],
      "source": [
        "print(df.shape)\n",
        "df.info()"
      ]
    },
    {
      "cell_type": "markdown",
      "metadata": {
        "id": "8ooLa-tCOd8A"
      },
      "source": [
        "Após a remoção das transferências com valor zero, foi feita uma nova análise à completude do conjunto de dados. Algumas colunas apresentavam um volume excessivo de valores ausentes ou ausência total de informação, comprometendo a sua utilidade no modelo.\n",
        "\n",
        "Foram removidas as seguintes colunas:\n",
        "\n",
        "- **`total_market_value_from`** e **`total_market_value_to`**: ambas com 100% de valores nulos. Sem qualquer registo informativo, não contribuem para o modelo.\n",
        "- **`net_transfer_record_from`** e **`domestic_competition_id_from`**: apesar de poderem, em teoria, refletir o contexto competitivo da equipa vendedora, apresentam uma cobertura de dados bastante limitada neste conjunto. Além disso, assume-se que o poder económico e a capacidade de valorização do jogador por parte do clube comprador (variáveis do clube de destino) têm um impacto mais direto e relevante no valor da transferência. Assim, optou-se por remover esta variável para simplificar o modelo e evitar incluir ruído estatístico.\n",
        "\n",
        "\n",
        "Com estas colunas removidas, as restantes apresentavam um número reduzido de valores em falta. Assim, foi aplicada uma eliminação direta de todas as linhas com dados nulos, garantindo um conjunto de treino limpo e sem perdas de qualidade na regressão.\n"
      ]
    },
    {
      "cell_type": "code",
      "execution_count": 339,
      "metadata": {
        "id": "BkIIh1C-Od8A"
      },
      "outputs": [],
      "source": [
        "df.drop(columns=[\n",
        "    'total_market_value_from',\n",
        "    'total_market_value_to',\n",
        "    'net_transfer_record_from',\n",
        "    'domestic_competition_id_from'\n",
        "], inplace=True)\n",
        "\n",
        "df.dropna(inplace=True)"
      ]
    },
    {
      "cell_type": "markdown",
      "metadata": {
        "id": "6DNUTMvROd8B"
      },
      "source": [
        "Com o objetivo de reduzir a variabilidade e complexidade das variáveis categóricas, foram aplicadas transformações de normalização às colunas `foot`, `position` e `sub_position`. Esta etapa é fundamental para garantir que as categorias sejam consistentes e adequadas para o processo de codificação (one-hot encoding) posterior.\n",
        "\n",
        "Estas normalizações ajudam a melhorar a qualidade do dataset e tornam-no mais adequado para regressão linear e outras técnicas de machine learning.\n"
      ]
    },
    {
      "cell_type": "code",
      "execution_count": 340,
      "metadata": {
        "id": "jKSBRuH8Od8B"
      },
      "outputs": [],
      "source": [
        "foot_map = {\n",
        "    'right': 'R',\n",
        "    'left': 'L',\n",
        "    'both': 'B'\n",
        "}\n",
        "df['foot'] = df['foot'].str.lower().map(foot_map)\n",
        "\n",
        "position_map = {\n",
        "    'Goalkeeper': 'GK',\n",
        "    'Defender': 'DF',\n",
        "    'Midfield': 'MF',\n",
        "    'Attack': 'FW'\n",
        "}\n",
        "df['position'] = df['position'].map(position_map)\n",
        "\n",
        "sub_pos_map = {\n",
        "    'Centre-Back': 'CB',\n",
        "    'Centre-Forward': 'CF',\n",
        "    'Central Midfield': 'CM',\n",
        "    'Defensive Midfield': 'DM',\n",
        "    'Left Winger': 'LW',\n",
        "    'Right Winger': 'RW',\n",
        "    'Goalkeeper': 'GK',\n",
        "    'Right-Back': 'RB',\n",
        "    'Left-Back': 'LB',\n",
        "    'Attacking Midfield': 'AM',\n",
        "    'Second Striker': 'SS',\n",
        "    'Right Midfield': 'RM',\n",
        "    'Left Midfield': 'LM'\n",
        "}\n",
        "\n",
        "df['sub_position'] = df['sub_position'].map(sub_pos_map)\n",
        "\n"
      ]
    },
    {
      "cell_type": "markdown",
      "metadata": {
        "id": "gQa68LQqOd8B"
      },
      "source": [
        "A coluna `net_transfer_record_to` contém valores representados como texto, no formato monetário europeu (ex: `€-47.10m`), o que a torna inutilizável diretamente em modelos preditivos baseados em valores numéricos.\n",
        "\n",
        "Para resolver este problema, foi criada uma função de parsing que remove os caracteres não numéricos (`€` e `m`) e converte os valores para o tipo `float`. Esta transformação permite incorporar a variável como uma feature numérica no modelo, representando o histórico líquido de transferências do clube comprador em milhões de euros."
      ]
    },
    {
      "cell_type": "code",
      "execution_count": 341,
      "metadata": {
        "id": "JPd3xCQJOd8B"
      },
      "outputs": [],
      "source": [
        "def parse_net_value(x):\n",
        "    if isinstance(x, str):\n",
        "        x = x.strip().replace('€', '').replace(',', '').lower()\n",
        "\n",
        "        if x in ['+-0']:\n",
        "            return 0.0\n",
        "\n",
        "        multiplier = 1\n",
        "        if x.endswith('m'):\n",
        "            multiplier = 1_000_000\n",
        "            x = x.replace('m', '')\n",
        "        elif x.endswith('k'):\n",
        "            multiplier = 1_000\n",
        "            x = x.replace('k', '')\n",
        "\n",
        "        try:\n",
        "            return float(x) * multiplier\n",
        "        except ValueError:\n",
        "            return None \n",
        "    return x\n",
        "\n",
        "df['net_transfer_record_to'] = df['net_transfer_record_to'].apply(parse_net_value)"
      ]
    },
    {
      "cell_type": "markdown",
      "metadata": {
        "id": "-LoV1PV5Od8B"
      },
      "source": [
        "Alterei o formato de algumas variáveis."
      ]
    },
    {
      "cell_type": "code",
      "execution_count": 342,
      "metadata": {
        "id": "Eo9pv8RQOd8B"
      },
      "outputs": [],
      "source": [
        "# Conversão de variáveis categóricas\n",
        "df['position'] = df['position'].astype('category')\n",
        "df['foot'] = df['foot'].astype('category')\n",
        "df['sub_position'] = df['sub_position'].astype('category')\n",
        "df['domestic_competition_id_to'] = df['domestic_competition_id_to'].astype('category')\n",
        "\n",
        "# Conversão de variáveis numéricas contínuas para inteiras\n",
        "df['height_in_cm'] = df['height_in_cm'].astype('int')\n",
        "df['squad_size_to'] = df['squad_size_to'].astype('int')\n",
        "df['national_team_players_to'] = df['national_team_players_to'].astype('int')\n",
        "df['player_age'] = df['player_age'].astype('int')\n"
      ]
    },
    {
      "cell_type": "markdown",
      "metadata": {
        "id": "1RDgL4hTOd8B"
      },
      "source": [
        "Após este processo obteve-se um conjunto de dados final com **7613 observações completas e 17 variáveis**. Todas as colunas estão livres de valores nulos, garantindo consistência e estabilidade para a fase de modelação preditiva.\n",
        "\n",
        "O `DataFrame` resultante está estruturado da seguinte forma:\n",
        "\n",
        "- **Total de linhas**: 7613\n",
        "- **Total de colunas**: 17\n",
        "- **Tipos de dados**:\n",
        "  - 6 variáveis numéricas contínuas (`float64`)\n",
        "  - 6 variáveis numéricas discretas (`int32`)\n",
        "  - 5 variáveis categóricas (`category`)\n",
        "\n",
        "A eliminação de registos com dados ausentes permite assegurar que o modelo de regressão será treinado com informação completa, evitando a introdução de viés por imputações arbitrárias ou omissões parciais. Este ponto é especialmente importante para modelos lineares, que assumem relações diretas entre variáveis e são sensíveis a ruído ou inconsistência nos dados de entrada.\n"
      ]
    },
    {
      "cell_type": "code",
      "execution_count": 343,
      "metadata": {
        "colab": {
          "base_uri": "https://localhost:8080/"
        },
        "id": "9cTElvMEOd8B",
        "outputId": "aa025165-3f9f-4055-d15b-a5ee9c4337dc"
      },
      "outputs": [
        {
          "name": "stdout",
          "output_type": "stream",
          "text": [
            "(7613, 16)\n",
            "<class 'pandas.core.frame.DataFrame'>\n",
            "Index: 7613 entries, 1 to 79367\n",
            "Data columns (total 16 columns):\n",
            " #   Column                       Non-Null Count  Dtype   \n",
            "---  ------                       --------------  -----   \n",
            " 0   transfer_fee                 7613 non-null   float64 \n",
            " 1   position                     7613 non-null   category\n",
            " 2   sub_position                 7613 non-null   category\n",
            " 3   foot                         7613 non-null   category\n",
            " 4   height_in_cm                 7613 non-null   int64   \n",
            " 5   market_value_in_eur_y        7613 non-null   float64 \n",
            " 6   highest_market_value_in_eur  7613 non-null   float64 \n",
            " 7   domestic_competition_id_to   7613 non-null   category\n",
            " 8   squad_size_to                7613 non-null   int64   \n",
            " 9   average_age_to               7613 non-null   float64 \n",
            " 10  foreigners_percentage_to     7613 non-null   float64 \n",
            " 11  national_team_players_to     7613 non-null   int64   \n",
            " 12  net_transfer_record_to       7613 non-null   float64 \n",
            " 13  transfer_date_year           7613 non-null   int32   \n",
            " 14  transfer_date_month          7613 non-null   int32   \n",
            " 15  player_age                   7613 non-null   int64   \n",
            "dtypes: category(4), float64(6), int32(2), int64(4)\n",
            "memory usage: 745.1 KB\n"
          ]
        }
      ],
      "source": [
        "print(df.shape)\n",
        "df.info()"
      ]
    },
    {
      "cell_type": "markdown",
      "metadata": {
        "id": "CTvDrq-lOd8C"
      },
      "source": [
        "Utilizei a função `df.describe()` para gerar estatísticas descritivas das variáveis numéricas do conjunto de dados. Esta análise permitiu verificar que, de forma geral, os valores se encontram dentro dos intervalos esperados. No entanto, foi identificado um caso particular na variável `squad_size_to`, onde o valor mínimo registado era 10 jogadores. Este valor é significativamente inferior ao habitual para plantéis profissionais, pelo que optei por remover os registos correspondentes a equipas com menos de 18 jogadores, por forma a garantir maior coerência e realismo nos dados utilizados para treino do modelo."
      ]
    },
    {
      "cell_type": "code",
      "execution_count": 344,
      "metadata": {
        "colab": {
          "base_uri": "https://localhost:8080/",
          "height": 320
        },
        "id": "8zcxk_EQOd8C",
        "outputId": "64c5a55f-76c0-428a-8ff7-a0df619a0b10"
      },
      "outputs": [
        {
          "data": {
            "application/vnd.google.colaboratory.intrinsic+json": {
              "summary": "{\n  \"name\": \"df\",\n  \"rows\": 8,\n  \"fields\": [\n    {\n      \"column\": \"transfer_fee\",\n      \"properties\": {\n        \"dtype\": \"number\",\n        \"std\": 62220909.38675433,\n        \"min\": 500.0,\n        \"max\": 180000000.0,\n        \"num_unique_values\": 8,\n        \"samples\": [\n          7183673.387626428,\n          3000000.0,\n          7613.0\n        ],\n        \"semantic_type\": \"\",\n        \"description\": \"\"\n      }\n    },\n    {\n      \"column\": \"height_in_cm\",\n      \"properties\": {\n        \"dtype\": \"number\",\n        \"std\": 2636.4454805709597,\n        \"min\": 6.827069135212856,\n        \"max\": 7613.0,\n        \"num_unique_values\": 8,\n        \"samples\": [\n          183.11532904242742,\n          184.0,\n          7613.0\n        ],\n        \"semantic_type\": \"\",\n        \"description\": \"\"\n      }\n    },\n    {\n      \"column\": \"market_value_in_eur_y\",\n      \"properties\": {\n        \"dtype\": \"number\",\n        \"std\": 69241892.87047036,\n        \"min\": 7613.0,\n        \"max\": 200000000.0,\n        \"num_unique_values\": 8,\n        \"samples\": [\n          7460891.238670695,\n          2500000.0,\n          7613.0\n        ],\n        \"semantic_type\": \"\",\n        \"description\": \"\"\n      }\n    },\n    {\n      \"column\": \"highest_market_value_in_eur\",\n      \"properties\": {\n        \"dtype\": \"number\",\n        \"std\": 67864604.45305523,\n        \"min\": 7613.0,\n        \"max\": 200000000.0,\n        \"num_unique_values\": 8,\n        \"samples\": [\n          15398689.741232103,\n          8000000.0,\n          7613.0\n        ],\n        \"semantic_type\": \"\",\n        \"description\": \"\"\n      }\n    },\n    {\n      \"column\": \"squad_size_to\",\n      \"properties\": {\n        \"dtype\": \"number\",\n        \"std\": 2683.4464961292642,\n        \"min\": 2.8109063857530048,\n        \"max\": 7613.0,\n        \"num_unique_values\": 8,\n        \"samples\": [\n          27.17233679232891,\n          27.0,\n          7613.0\n        ],\n        \"semantic_type\": \"\",\n        \"description\": \"\"\n      }\n    },\n    {\n      \"column\": \"average_age_to\",\n      \"properties\": {\n        \"dtype\": \"number\",\n        \"std\": 2683.7188814646015,\n        \"min\": 1.421886469119752,\n        \"max\": 7613.0,\n        \"num_unique_values\": 8,\n        \"samples\": [\n          25.944542230395374,\n          26.0,\n          7613.0\n        ],\n        \"semantic_type\": \"\",\n        \"description\": \"\"\n      }\n    },\n    {\n      \"column\": \"foreigners_percentage_to\",\n      \"properties\": {\n        \"dtype\": \"number\",\n        \"std\": 2674.2531707366597,\n        \"min\": 2.4,\n        \"max\": 7613.0,\n        \"num_unique_values\": 8,\n        \"samples\": [\n          56.17544988834888,\n          56.7,\n          7613.0\n        ],\n        \"semantic_type\": \"\",\n        \"description\": \"\"\n      }\n    },\n    {\n      \"column\": \"national_team_players_to\",\n      \"properties\": {\n        \"dtype\": \"number\",\n        \"std\": 2688.4052517341793,\n        \"min\": 0.0,\n        \"max\": 7613.0,\n        \"num_unique_values\": 8,\n        \"samples\": [\n          9.250098515696834,\n          9.0,\n          7613.0\n        ],\n        \"semantic_type\": \"\",\n        \"description\": \"\"\n      }\n    },\n    {\n      \"column\": \"net_transfer_record_to\",\n      \"properties\": {\n        \"dtype\": \"number\",\n        \"std\": 98827867.95421068,\n        \"min\": -229960000.0,\n        \"max\": 116740000.0,\n        \"num_unique_values\": 8,\n        \"samples\": [\n          -5885030.211480362,\n          950000.0,\n          7613.0\n        ],\n        \"semantic_type\": \"\",\n        \"description\": \"\"\n      }\n    },\n    {\n      \"column\": \"transfer_date_year\",\n      \"properties\": {\n        \"dtype\": \"number\",\n        \"std\": 2196.020081668566,\n        \"min\": 3.8729676136849793,\n        \"max\": 7613.0,\n        \"num_unique_values\": 8,\n        \"samples\": [\n          2019.815578615526,\n          2021.0,\n          7613.0\n        ],\n        \"semantic_type\": \"\",\n        \"description\": \"\"\n      }\n    },\n    {\n      \"column\": \"transfer_date_month\",\n      \"properties\": {\n        \"dtype\": \"number\",\n        \"std\": 2689.392357822346,\n        \"min\": 1.0,\n        \"max\": 7613.0,\n        \"num_unique_values\": 7,\n        \"samples\": [\n          7613.0,\n          6.181400236437672,\n          8.0\n        ],\n        \"semantic_type\": \"\",\n        \"description\": \"\"\n      }\n    },\n    {\n      \"column\": \"player_age\",\n      \"properties\": {\n        \"dtype\": \"number\",\n        \"std\": 2684.1670923698953,\n        \"min\": 3.2970475149387726,\n        \"max\": 7613.0,\n        \"num_unique_values\": 8,\n        \"samples\": [\n          23.215815053198476,\n          23.0,\n          7613.0\n        ],\n        \"semantic_type\": \"\",\n        \"description\": \"\"\n      }\n    }\n  ]\n}",
              "type": "dataframe"
            },
            "text/html": [
              "\n",
              "  <div id=\"df-bf1b8675-7064-450c-9742-867a07c91270\" class=\"colab-df-container\">\n",
              "    <div>\n",
              "<style scoped>\n",
              "    .dataframe tbody tr th:only-of-type {\n",
              "        vertical-align: middle;\n",
              "    }\n",
              "\n",
              "    .dataframe tbody tr th {\n",
              "        vertical-align: top;\n",
              "    }\n",
              "\n",
              "    .dataframe thead th {\n",
              "        text-align: right;\n",
              "    }\n",
              "</style>\n",
              "<table border=\"1\" class=\"dataframe\">\n",
              "  <thead>\n",
              "    <tr style=\"text-align: right;\">\n",
              "      <th></th>\n",
              "      <th>transfer_fee</th>\n",
              "      <th>height_in_cm</th>\n",
              "      <th>market_value_in_eur_y</th>\n",
              "      <th>highest_market_value_in_eur</th>\n",
              "      <th>squad_size_to</th>\n",
              "      <th>average_age_to</th>\n",
              "      <th>foreigners_percentage_to</th>\n",
              "      <th>national_team_players_to</th>\n",
              "      <th>net_transfer_record_to</th>\n",
              "      <th>transfer_date_year</th>\n",
              "      <th>transfer_date_month</th>\n",
              "      <th>player_age</th>\n",
              "    </tr>\n",
              "  </thead>\n",
              "  <tbody>\n",
              "    <tr>\n",
              "      <th>count</th>\n",
              "      <td>7.613000e+03</td>\n",
              "      <td>7613.000000</td>\n",
              "      <td>7.613000e+03</td>\n",
              "      <td>7.613000e+03</td>\n",
              "      <td>7613.000000</td>\n",
              "      <td>7613.000000</td>\n",
              "      <td>7613.000000</td>\n",
              "      <td>7613.000000</td>\n",
              "      <td>7.613000e+03</td>\n",
              "      <td>7613.000000</td>\n",
              "      <td>7613.000000</td>\n",
              "      <td>7613.000000</td>\n",
              "    </tr>\n",
              "    <tr>\n",
              "      <th>mean</th>\n",
              "      <td>7.183673e+06</td>\n",
              "      <td>183.115329</td>\n",
              "      <td>7.460891e+06</td>\n",
              "      <td>1.539869e+07</td>\n",
              "      <td>27.172337</td>\n",
              "      <td>25.944542</td>\n",
              "      <td>56.175450</td>\n",
              "      <td>9.250099</td>\n",
              "      <td>-5.885030e+06</td>\n",
              "      <td>2019.815579</td>\n",
              "      <td>6.181400</td>\n",
              "      <td>23.215815</td>\n",
              "    </tr>\n",
              "    <tr>\n",
              "      <th>std</th>\n",
              "      <td>1.185094e+07</td>\n",
              "      <td>6.827069</td>\n",
              "      <td>1.341483e+07</td>\n",
              "      <td>1.985119e+07</td>\n",
              "      <td>2.810906</td>\n",
              "      <td>1.421886</td>\n",
              "      <td>17.553098</td>\n",
              "      <td>5.197515</td>\n",
              "      <td>4.476846e+07</td>\n",
              "      <td>3.872968</td>\n",
              "      <td>2.607603</td>\n",
              "      <td>3.297048</td>\n",
              "    </tr>\n",
              "    <tr>\n",
              "      <th>min</th>\n",
              "      <td>5.000000e+02</td>\n",
              "      <td>161.000000</td>\n",
              "      <td>2.000000e+04</td>\n",
              "      <td>5.000000e+04</td>\n",
              "      <td>10.000000</td>\n",
              "      <td>21.300000</td>\n",
              "      <td>2.400000</td>\n",
              "      <td>0.000000</td>\n",
              "      <td>-2.299600e+08</td>\n",
              "      <td>2002.000000</td>\n",
              "      <td>1.000000</td>\n",
              "      <td>16.000000</td>\n",
              "    </tr>\n",
              "    <tr>\n",
              "      <th>25%</th>\n",
              "      <td>9.000000e+05</td>\n",
              "      <td>178.000000</td>\n",
              "      <td>9.000000e+05</td>\n",
              "      <td>3.000000e+06</td>\n",
              "      <td>25.000000</td>\n",
              "      <td>25.000000</td>\n",
              "      <td>44.400000</td>\n",
              "      <td>5.000000</td>\n",
              "      <td>-2.150000e+07</td>\n",
              "      <td>2017.000000</td>\n",
              "      <td>7.000000</td>\n",
              "      <td>21.000000</td>\n",
              "    </tr>\n",
              "    <tr>\n",
              "      <th>50%</th>\n",
              "      <td>3.000000e+06</td>\n",
              "      <td>184.000000</td>\n",
              "      <td>2.500000e+06</td>\n",
              "      <td>8.000000e+06</td>\n",
              "      <td>27.000000</td>\n",
              "      <td>26.000000</td>\n",
              "      <td>56.700000</td>\n",
              "      <td>9.000000</td>\n",
              "      <td>9.500000e+05</td>\n",
              "      <td>2021.000000</td>\n",
              "      <td>7.000000</td>\n",
              "      <td>23.000000</td>\n",
              "    </tr>\n",
              "    <tr>\n",
              "      <th>75%</th>\n",
              "      <td>8.100000e+06</td>\n",
              "      <td>188.000000</td>\n",
              "      <td>8.000000e+06</td>\n",
              "      <td>2.000000e+07</td>\n",
              "      <td>29.000000</td>\n",
              "      <td>26.800000</td>\n",
              "      <td>69.600000</td>\n",
              "      <td>13.000000</td>\n",
              "      <td>1.355000e+07</td>\n",
              "      <td>2023.000000</td>\n",
              "      <td>8.000000</td>\n",
              "      <td>25.000000</td>\n",
              "    </tr>\n",
              "    <tr>\n",
              "      <th>max</th>\n",
              "      <td>1.800000e+08</td>\n",
              "      <td>206.000000</td>\n",
              "      <td>2.000000e+08</td>\n",
              "      <td>2.000000e+08</td>\n",
              "      <td>41.000000</td>\n",
              "      <td>29.900000</td>\n",
              "      <td>100.000000</td>\n",
              "      <td>22.000000</td>\n",
              "      <td>1.167400e+08</td>\n",
              "      <td>2026.000000</td>\n",
              "      <td>12.000000</td>\n",
              "      <td>36.000000</td>\n",
              "    </tr>\n",
              "  </tbody>\n",
              "</table>\n",
              "</div>\n",
              "    <div class=\"colab-df-buttons\">\n",
              "\n",
              "  <div class=\"colab-df-container\">\n",
              "    <button class=\"colab-df-convert\" onclick=\"convertToInteractive('df-bf1b8675-7064-450c-9742-867a07c91270')\"\n",
              "            title=\"Convert this dataframe to an interactive table.\"\n",
              "            style=\"display:none;\">\n",
              "\n",
              "  <svg xmlns=\"http://www.w3.org/2000/svg\" height=\"24px\" viewBox=\"0 -960 960 960\">\n",
              "    <path d=\"M120-120v-720h720v720H120Zm60-500h600v-160H180v160Zm220 220h160v-160H400v160Zm0 220h160v-160H400v160ZM180-400h160v-160H180v160Zm440 0h160v-160H620v160ZM180-180h160v-160H180v160Zm440 0h160v-160H620v160Z\"/>\n",
              "  </svg>\n",
              "    </button>\n",
              "\n",
              "  <style>\n",
              "    .colab-df-container {\n",
              "      display:flex;\n",
              "      gap: 12px;\n",
              "    }\n",
              "\n",
              "    .colab-df-convert {\n",
              "      background-color: #E8F0FE;\n",
              "      border: none;\n",
              "      border-radius: 50%;\n",
              "      cursor: pointer;\n",
              "      display: none;\n",
              "      fill: #1967D2;\n",
              "      height: 32px;\n",
              "      padding: 0 0 0 0;\n",
              "      width: 32px;\n",
              "    }\n",
              "\n",
              "    .colab-df-convert:hover {\n",
              "      background-color: #E2EBFA;\n",
              "      box-shadow: 0px 1px 2px rgba(60, 64, 67, 0.3), 0px 1px 3px 1px rgba(60, 64, 67, 0.15);\n",
              "      fill: #174EA6;\n",
              "    }\n",
              "\n",
              "    .colab-df-buttons div {\n",
              "      margin-bottom: 4px;\n",
              "    }\n",
              "\n",
              "    [theme=dark] .colab-df-convert {\n",
              "      background-color: #3B4455;\n",
              "      fill: #D2E3FC;\n",
              "    }\n",
              "\n",
              "    [theme=dark] .colab-df-convert:hover {\n",
              "      background-color: #434B5C;\n",
              "      box-shadow: 0px 1px 3px 1px rgba(0, 0, 0, 0.15);\n",
              "      filter: drop-shadow(0px 1px 2px rgba(0, 0, 0, 0.3));\n",
              "      fill: #FFFFFF;\n",
              "    }\n",
              "  </style>\n",
              "\n",
              "    <script>\n",
              "      const buttonEl =\n",
              "        document.querySelector('#df-bf1b8675-7064-450c-9742-867a07c91270 button.colab-df-convert');\n",
              "      buttonEl.style.display =\n",
              "        google.colab.kernel.accessAllowed ? 'block' : 'none';\n",
              "\n",
              "      async function convertToInteractive(key) {\n",
              "        const element = document.querySelector('#df-bf1b8675-7064-450c-9742-867a07c91270');\n",
              "        const dataTable =\n",
              "          await google.colab.kernel.invokeFunction('convertToInteractive',\n",
              "                                                    [key], {});\n",
              "        if (!dataTable) return;\n",
              "\n",
              "        const docLinkHtml = 'Like what you see? Visit the ' +\n",
              "          '<a target=\"_blank\" href=https://colab.research.google.com/notebooks/data_table.ipynb>data table notebook</a>'\n",
              "          + ' to learn more about interactive tables.';\n",
              "        element.innerHTML = '';\n",
              "        dataTable['output_type'] = 'display_data';\n",
              "        await google.colab.output.renderOutput(dataTable, element);\n",
              "        const docLink = document.createElement('div');\n",
              "        docLink.innerHTML = docLinkHtml;\n",
              "        element.appendChild(docLink);\n",
              "      }\n",
              "    </script>\n",
              "  </div>\n",
              "\n",
              "\n",
              "<div id=\"df-3c7d4721-c5a7-4004-89c9-77704a0e58a8\">\n",
              "  <button class=\"colab-df-quickchart\" onclick=\"quickchart('df-3c7d4721-c5a7-4004-89c9-77704a0e58a8')\"\n",
              "            title=\"Suggest charts\"\n",
              "            style=\"display:none;\">\n",
              "\n",
              "<svg xmlns=\"http://www.w3.org/2000/svg\" height=\"24px\"viewBox=\"0 0 24 24\"\n",
              "     width=\"24px\">\n",
              "    <g>\n",
              "        <path d=\"M19 3H5c-1.1 0-2 .9-2 2v14c0 1.1.9 2 2 2h14c1.1 0 2-.9 2-2V5c0-1.1-.9-2-2-2zM9 17H7v-7h2v7zm4 0h-2V7h2v10zm4 0h-2v-4h2v4z\"/>\n",
              "    </g>\n",
              "</svg>\n",
              "  </button>\n",
              "\n",
              "<style>\n",
              "  .colab-df-quickchart {\n",
              "      --bg-color: #E8F0FE;\n",
              "      --fill-color: #1967D2;\n",
              "      --hover-bg-color: #E2EBFA;\n",
              "      --hover-fill-color: #174EA6;\n",
              "      --disabled-fill-color: #AAA;\n",
              "      --disabled-bg-color: #DDD;\n",
              "  }\n",
              "\n",
              "  [theme=dark] .colab-df-quickchart {\n",
              "      --bg-color: #3B4455;\n",
              "      --fill-color: #D2E3FC;\n",
              "      --hover-bg-color: #434B5C;\n",
              "      --hover-fill-color: #FFFFFF;\n",
              "      --disabled-bg-color: #3B4455;\n",
              "      --disabled-fill-color: #666;\n",
              "  }\n",
              "\n",
              "  .colab-df-quickchart {\n",
              "    background-color: var(--bg-color);\n",
              "    border: none;\n",
              "    border-radius: 50%;\n",
              "    cursor: pointer;\n",
              "    display: none;\n",
              "    fill: var(--fill-color);\n",
              "    height: 32px;\n",
              "    padding: 0;\n",
              "    width: 32px;\n",
              "  }\n",
              "\n",
              "  .colab-df-quickchart:hover {\n",
              "    background-color: var(--hover-bg-color);\n",
              "    box-shadow: 0 1px 2px rgba(60, 64, 67, 0.3), 0 1px 3px 1px rgba(60, 64, 67, 0.15);\n",
              "    fill: var(--button-hover-fill-color);\n",
              "  }\n",
              "\n",
              "  .colab-df-quickchart-complete:disabled,\n",
              "  .colab-df-quickchart-complete:disabled:hover {\n",
              "    background-color: var(--disabled-bg-color);\n",
              "    fill: var(--disabled-fill-color);\n",
              "    box-shadow: none;\n",
              "  }\n",
              "\n",
              "  .colab-df-spinner {\n",
              "    border: 2px solid var(--fill-color);\n",
              "    border-color: transparent;\n",
              "    border-bottom-color: var(--fill-color);\n",
              "    animation:\n",
              "      spin 1s steps(1) infinite;\n",
              "  }\n",
              "\n",
              "  @keyframes spin {\n",
              "    0% {\n",
              "      border-color: transparent;\n",
              "      border-bottom-color: var(--fill-color);\n",
              "      border-left-color: var(--fill-color);\n",
              "    }\n",
              "    20% {\n",
              "      border-color: transparent;\n",
              "      border-left-color: var(--fill-color);\n",
              "      border-top-color: var(--fill-color);\n",
              "    }\n",
              "    30% {\n",
              "      border-color: transparent;\n",
              "      border-left-color: var(--fill-color);\n",
              "      border-top-color: var(--fill-color);\n",
              "      border-right-color: var(--fill-color);\n",
              "    }\n",
              "    40% {\n",
              "      border-color: transparent;\n",
              "      border-right-color: var(--fill-color);\n",
              "      border-top-color: var(--fill-color);\n",
              "    }\n",
              "    60% {\n",
              "      border-color: transparent;\n",
              "      border-right-color: var(--fill-color);\n",
              "    }\n",
              "    80% {\n",
              "      border-color: transparent;\n",
              "      border-right-color: var(--fill-color);\n",
              "      border-bottom-color: var(--fill-color);\n",
              "    }\n",
              "    90% {\n",
              "      border-color: transparent;\n",
              "      border-bottom-color: var(--fill-color);\n",
              "    }\n",
              "  }\n",
              "</style>\n",
              "\n",
              "  <script>\n",
              "    async function quickchart(key) {\n",
              "      const quickchartButtonEl =\n",
              "        document.querySelector('#' + key + ' button');\n",
              "      quickchartButtonEl.disabled = true;  // To prevent multiple clicks.\n",
              "      quickchartButtonEl.classList.add('colab-df-spinner');\n",
              "      try {\n",
              "        const charts = await google.colab.kernel.invokeFunction(\n",
              "            'suggestCharts', [key], {});\n",
              "      } catch (error) {\n",
              "        console.error('Error during call to suggestCharts:', error);\n",
              "      }\n",
              "      quickchartButtonEl.classList.remove('colab-df-spinner');\n",
              "      quickchartButtonEl.classList.add('colab-df-quickchart-complete');\n",
              "    }\n",
              "    (() => {\n",
              "      let quickchartButtonEl =\n",
              "        document.querySelector('#df-3c7d4721-c5a7-4004-89c9-77704a0e58a8 button');\n",
              "      quickchartButtonEl.style.display =\n",
              "        google.colab.kernel.accessAllowed ? 'block' : 'none';\n",
              "    })();\n",
              "  </script>\n",
              "</div>\n",
              "\n",
              "    </div>\n",
              "  </div>\n"
            ],
            "text/plain": [
              "       transfer_fee  height_in_cm  market_value_in_eur_y  \\\n",
              "count  7.613000e+03   7613.000000           7.613000e+03   \n",
              "mean   7.183673e+06    183.115329           7.460891e+06   \n",
              "std    1.185094e+07      6.827069           1.341483e+07   \n",
              "min    5.000000e+02    161.000000           2.000000e+04   \n",
              "25%    9.000000e+05    178.000000           9.000000e+05   \n",
              "50%    3.000000e+06    184.000000           2.500000e+06   \n",
              "75%    8.100000e+06    188.000000           8.000000e+06   \n",
              "max    1.800000e+08    206.000000           2.000000e+08   \n",
              "\n",
              "       highest_market_value_in_eur  squad_size_to  average_age_to  \\\n",
              "count                 7.613000e+03    7613.000000     7613.000000   \n",
              "mean                  1.539869e+07      27.172337       25.944542   \n",
              "std                   1.985119e+07       2.810906        1.421886   \n",
              "min                   5.000000e+04      10.000000       21.300000   \n",
              "25%                   3.000000e+06      25.000000       25.000000   \n",
              "50%                   8.000000e+06      27.000000       26.000000   \n",
              "75%                   2.000000e+07      29.000000       26.800000   \n",
              "max                   2.000000e+08      41.000000       29.900000   \n",
              "\n",
              "       foreigners_percentage_to  national_team_players_to  \\\n",
              "count               7613.000000               7613.000000   \n",
              "mean                  56.175450                  9.250099   \n",
              "std                   17.553098                  5.197515   \n",
              "min                    2.400000                  0.000000   \n",
              "25%                   44.400000                  5.000000   \n",
              "50%                   56.700000                  9.000000   \n",
              "75%                   69.600000                 13.000000   \n",
              "max                  100.000000                 22.000000   \n",
              "\n",
              "       net_transfer_record_to  transfer_date_year  transfer_date_month  \\\n",
              "count            7.613000e+03         7613.000000          7613.000000   \n",
              "mean            -5.885030e+06         2019.815579             6.181400   \n",
              "std              4.476846e+07            3.872968             2.607603   \n",
              "min             -2.299600e+08         2002.000000             1.000000   \n",
              "25%             -2.150000e+07         2017.000000             7.000000   \n",
              "50%              9.500000e+05         2021.000000             7.000000   \n",
              "75%              1.355000e+07         2023.000000             8.000000   \n",
              "max              1.167400e+08         2026.000000            12.000000   \n",
              "\n",
              "        player_age  \n",
              "count  7613.000000  \n",
              "mean     23.215815  \n",
              "std       3.297048  \n",
              "min      16.000000  \n",
              "25%      21.000000  \n",
              "50%      23.000000  \n",
              "75%      25.000000  \n",
              "max      36.000000  "
            ]
          },
          "execution_count": 344,
          "metadata": {},
          "output_type": "execute_result"
        }
      ],
      "source": [
        "df.describe()"
      ]
    },
    {
      "cell_type": "code",
      "execution_count": 345,
      "metadata": {
        "id": "XttOwEM2Od8C"
      },
      "outputs": [],
      "source": [
        "df = df[df['squad_size_to'] >= 18]"
      ]
    },
    {
      "cell_type": "markdown",
      "metadata": {
        "id": "AW3jiRJUOd8E"
      },
      "source": [
        "Realizei um boxplot para analisar a distribuição dos valores de transferência e verifiquei a presença de um número significativo de registos acima do terceiro quartil. Este comportamento revela que o dataset contém uma concentração elevada de transferências de menor valor, e apenas uma fração reduzida de transferências de alto valor, geralmente associadas a clubes de topo.\n",
        "\n",
        "Tendo em conta que o modelo escolhido é uma regressão linear — técnica sensível a outliers —, optei por eliminar todos os registos cujo valor de transferência ultrapassa o terceiro quartil (Q3). Esta decisão tem como objetivo construir um modelo mais estável e adequado para prever transferências de menor dimensão.\n",
        "\n",
        "No contexto futebolístico, esta abordagem pode ser especialmente útil para clubes de menor dimensão, que enfrentam maiores restrições orçamentais e que, frequentemente, não dispõem de estruturas avançadas para avaliação de jogadores. Um modelo ajustado a este segmento pode, por isso, oferecer uma ferramenta prática e realista para apoiar decisões de contratação.\n"
      ]
    },
    {
      "cell_type": "code",
      "execution_count": 346,
      "metadata": {
        "colab": {
          "base_uri": "https://localhost:8080/",
          "height": 472
        },
        "id": "mILx2EGlOd8E",
        "outputId": "7c7bcab4-5e67-4ce8-a09c-cfc5e1649887"
      },
      "outputs": [
        {
          "data": {
            "image/png": "[encoded data removed]",
            "text/plain": [
              "<Figure size 640x480 with 1 Axes>"
            ]
          },
          "metadata": {},
          "output_type": "display_data"
        }
      ],
      "source": [
        "sns.boxplot(x=df['transfer_fee'])\n",
        "plt.title('Boxplot dos valores de transferência')\n",
        "plt.show()"
      ]
    },
    {
      "cell_type": "code",
      "execution_count": 347,
      "metadata": {
        "id": "ZpX1lqTrOd8E"
      },
      "outputs": [],
      "source": [
        "# Remoção de outliers\n",
        "\n",
        "q3 = df['transfer_fee'].quantile(0.75)\n",
        "df_menor_valor = df[df['transfer_fee'] <= q3]\n"
      ]
    },
    {
      "cell_type": "code",
      "execution_count": 348,
      "metadata": {
        "colab": {
          "base_uri": "https://localhost:8080/",
          "height": 472
        },
        "id": "PCqqur3UOd8F",
        "outputId": "5a1dad41-ef7e-4697-883b-5a7583f36f2a"
      },
      "outputs": [
        {
          "data": {
            "image/png": "[encoded data removed]",
            "text/plain": [
              "<Figure size 640x480 with 1 Axes>"
            ]
          },
          "metadata": {},
          "output_type": "display_data"
        }
      ],
      "source": [
        "# Novo Boxplot após remoção de outliers\n",
        "\n",
        "sns.boxplot(x=df_menor_valor['transfer_fee'])\n",
        "plt.title('Boxplot dos valores de transferência')\n",
        "plt.show()"
      ]
    },
    {
      "cell_type": "markdown",
      "metadata": {
        "id": "1N7jlkWGTKO8"
      },
      "source": [
        "Foi elaborada uma matriz de correlação para ambos os cenários a implementar, com o objetivo de analisar a relação linear entre as variáveis presentes em cada um dos conjuntos de dados. Esta análise permite identificar quais os atributos que apresentam maior correlação com a variável alvo (`transfer_fee`) e avaliar possíveis situações de multicolinearidade entre variáveis explicativas."
      ]
    },
    {
      "cell_type": "code",
      "execution_count": 349,
      "metadata": {
        "colab": {
          "base_uri": "https://localhost:8080/",
          "height": 492
        },
        "id": "Zx2rp7J9TKlQ",
        "outputId": "acafb231-a7f3-4b50-ec39-7cb86de0ed62"
      },
      "outputs": [
        {
          "data": {
            "image/png": "[encoded data removed]",
            "text/plain": [
              "<Figure size 1600x1000 with 2 Axes>"
            ]
          },
          "metadata": {},
          "output_type": "display_data"
        }
      ],
      "source": [
        "# Cenário 1\n",
        "\n",
        "df_without_clubs = df.drop(columns=['squad_size_to', 'average_age_to','foreigners_percentage_to','national_team_players_to','net_transfer_record_to'])\n",
        "# Calcular a matriz de correlação\n",
        "corr_matrix = df_without_clubs.corr(numeric_only=True)\n",
        "\n",
        "# Plot com seaborn\n",
        "plt.figure(figsize=(16, 10))\n",
        "sns.heatmap(corr_matrix, cmap='coolwarm', center=0, annot=False)\n",
        "plt.title('Matriz de Correlação das Variáveis Numéricas')\n",
        "plt.show()\n"
      ]
    },
    {
      "cell_type": "markdown",
      "metadata": {
        "id": "zwU0yLdsU7vv"
      },
      "source": [
        "A análise da matriz de correlação para o primeiro cenário revela que as variáveis com maior associação linear ao valor de transferência (`transfer_fee`) são o valor de mercado atual (`market_value_in_eur_y`) e o valor de mercado mais elevado registado (`highest_market_value_in_eur`). Esta relação é esperada, uma vez que ambos os indicadores refletem diretamente a valorização do jogador no mercado. As restantes variáveis numéricas, como altura, idade, ano e mês de transferência, apresentam uma correlação bastante fraca com o target, sugerindo que têm um contributo limitado na explicação direta do valor de transferência. Ainda assim, podem conter alguma informação complementar útil quando combinadas com variáveis categóricas ou não lineares.\n"
      ]
    },
    {
      "cell_type": "code",
      "execution_count": 350,
      "metadata": {
        "colab": {
          "base_uri": "https://localhost:8080/",
          "height": 489
        },
        "id": "bpUwZ8JfU8G4",
        "outputId": "03f8813c-c8a9-471a-953f-bef786eb7120"
      },
      "outputs": [
        {
          "data": {
            "image/png": "[encoded data removed]",
            "text/plain": [
              "<Figure size 1600x1000 with 2 Axes>"
            ]
          },
          "metadata": {},
          "output_type": "display_data"
        }
      ],
      "source": [
        "# Cenário 2\n",
        "\n",
        "df_with_clubs = df[df['transfer_date_year'] >= 2024]\n",
        "corr_matrix = df_with_clubs.corr(numeric_only=True)\n",
        "\n",
        "# Plot com seaborn\n",
        "plt.figure(figsize=(16, 10))\n",
        "sns.heatmap(corr_matrix, cmap='coolwarm', center=0, annot=False)\n",
        "plt.title('Matriz de Correlação das Variáveis Numéricas')\n",
        "plt.show()\n"
      ]
    },
    {
      "cell_type": "markdown",
      "metadata": {
        "id": "eP_RdjcMU80l"
      },
      "source": [
        "A matriz de correlação para o segundo cenário, que inclui variáveis relacionadas com o clube comprador, confirma que as variáveis com maior associação ao valor de transferência (`transfer_fee`) continuam a ser o valor de mercado atual (`market_value_in_eur_y`) e o valor de mercado mais elevado (`highest_market_value_in_eur`). Este padrão já se verificava no primeiro cenário e reforça a ideia de que a valorização de mercado do jogador é o principal fator determinante no valor pago pela sua transferência.\n",
        "\n",
        "As novas variáveis introduzidas neste cenário, como `national_team_players_to`, `foreigners_percentage_to` e `squad_size_to`, apresentam correlações positivas, ainda que moderadas, com o valor da transferência. Isto sugere que clubes com plantéis mais fortes, mais internacionais ou mais numerosos podem estar dispostos a investir mais em novos jogadores. Apesar de estas correlações não serem muito elevadas, estas variáveis podem conter valor preditivo adicional.\n",
        "\n",
        "Em contraste, variáveis como `net_transfer_record_to`, `transfer_date_year` e `player_age` demonstram correlações muito fracas (ou mesmo negativas) com o valor da transferência. Isto indica que, quando analisadas isoladamente, têm um impacto reduzido na explicação da variável dependente.\n",
        "\n",
        "A estrutura atual do conjunto de dados é adequada para avançar para a fase de modelação, sem necessidade de remoção de variáveis. As novas variáveis introduzidas no segundo cenário enriquecem o modelo com mais contexto, especialmente sobre o perfil dos clubes compradores.\n"
      ]
    },
    {
      "cell_type": "markdown",
      "metadata": {
        "id": "VrZp5OqyXORD"
      },
      "source": [
        "Foi aplicada codificação One-Hot às variáveis categóricas `position`, `sub_position`, `foot` e `domestic_competition_id_to`, de forma a converter essas categorias em variáveis binárias. Esta transformação é essencial para permitir que os modelos de regressão interpretem corretamente dados categóricos.\n"
      ]
    },
    {
      "cell_type": "code",
      "execution_count": 353,
      "metadata": {
        "id": "jr9V3BgJOd8W"
      },
      "outputs": [],
      "source": [
        "from sklearn.preprocessing import OneHotEncoder\n",
        "\n",
        "# Lista das variáveis categóricas a codificar\n",
        "cat_vars = ['position', 'sub_position', 'foot', 'domestic_competition_id_to']\n",
        "\n",
        "def encode_categoricals(df, cat_vars):\n",
        "    ohe = OneHotEncoder(sparse_output=False, handle_unknown='ignore')\n",
        "    dummies = ohe.fit_transform(df[cat_vars])\n",
        "    col_names = ohe.get_feature_names_out(cat_vars)\n",
        "    cat_df = pd.DataFrame(dummies, columns=col_names, index=df.index)\n",
        "    df = df.drop(columns=cat_vars)\n",
        "    return pd.concat([df, cat_df], axis=1)\n",
        "\n",
        "df_with_clubs = encode_categoricals(df_with_clubs, cat_vars)\n",
        "df_without_clubs = encode_categoricals(df_without_clubs, cat_vars)\n"
      ]
    },
    {
      "cell_type": "markdown",
      "metadata": {
        "id": "MWADKm3aXXiI"
      },
      "source": [
        "Foi aplicado o Min-Max Scaling às variáveis numéricas do conjunto de dados, transformando os seus valores para o intervalo [0, 1]. Esta normalização é particularmente importante para modelos de regressão, garantindo que todas as variáveis contribuem de forma proporcional para o modelo e evitando que variáveis com escalas superiores dominem a aprendizagem.\n"
      ]
    },
    {
      "cell_type": "code",
      "execution_count": 354,
      "metadata": {
        "id": "inIsUxXGRtGs"
      },
      "outputs": [],
      "source": [
        "from sklearn.preprocessing import MinMaxScaler\n",
        "\n",
        "# Listas de variáveis numéricas para cada cenário\n",
        "num_vars_clubs = ['height_in_cm', 'market_value_in_eur_y', 'highest_market_value_in_eur',\n",
        "                  'squad_size_to', 'average_age_to', 'foreigners_percentage_to',\n",
        "                  'national_team_players_to', 'transfer_date_year',\n",
        "                  'transfer_date_month', 'player_age', 'net_transfer_record_to']\n",
        "\n",
        "num_vars_without_clubs = ['height_in_cm', 'market_value_in_eur_y', 'highest_market_value_in_eur',\n",
        "                          'transfer_date_year', 'transfer_date_month', 'player_age']\n",
        "\n",
        "# Função para aplicar MinMaxScaler de forma segura\n",
        "def apply_minmax(df, num_vars):\n",
        "    scaler = MinMaxScaler()\n",
        "    scaled_data = scaler.fit_transform(df[num_vars])\n",
        "    scaled_df = pd.DataFrame(scaled_data, columns=num_vars, index=df.index)\n",
        "    df[num_vars] = scaled_df[num_vars]\n",
        "    return df\n",
        "\n",
        "# Aplicar escalonamento corretamente aos dois DataFrames\n",
        "df_with_clubs = apply_minmax(df_with_clubs, num_vars_clubs)\n",
        "df_without_clubs = apply_minmax(df_without_clubs, num_vars_without_clubs)\n"
      ]
    },
    {
      "cell_type": "markdown",
      "metadata": {},
      "source": [
        "Criei uma função genérica para separar o conjunto de dados em variáveis independentes (`X`) e variável dependente (`y`), seguida da divisão entre treino e teste utilizando a função `train_test_split` do `scikit-learn`, com 70% dos dados para treino e 30% para teste.\n",
        "\n",
        "Esta operação foi aplicada de forma independente aos dois cenários (com e sem variáveis dos clubes), garantindo que cada modelo é treinado e avaliado de forma isolada e consistente.\n"
      ]
    },
    {
      "cell_type": "code",
      "execution_count": 355,
      "metadata": {
        "colab": {
          "base_uri": "https://localhost:8080/"
        },
        "id": "EglmkBpYXpnI",
        "outputId": "380680da-71e5-4cb5-a73f-18ff826e5705"
      },
      "outputs": [
        {
          "name": "stdout",
          "output_type": "stream",
          "text": [
            "Cenário com clubes:\n",
            "  Conjunto de treino: 911 linhas\n",
            "  Conjunto de teste:  391 linhas\n",
            "\n",
            "Cenário sem clubes:\n",
            "  Conjunto de treino: 5322 linhas\n",
            "  Conjunto de teste:  2281 linhas\n",
            "\n"
          ]
        }
      ],
      "source": [
        "from sklearn.model_selection import train_test_split\n",
        "\n",
        "def split_features_target(df, target='transfer_fee', test_size=0.3, random_state=0, nome=''):\n",
        "\n",
        "    X = df.drop(columns=target)\n",
        "    y = df[target].values\n",
        "\n",
        "    X_train, X_test, y_train, y_test = train_test_split(\n",
        "        X, y, test_size=test_size, random_state=random_state)\n",
        "\n",
        "    print(f\"Cenário {nome}:\")\n",
        "    print(f\"  Conjunto de treino: {X_train.shape[0]} linhas\")\n",
        "    print(f\"  Conjunto de teste:  {X_test.shape[0]} linhas\\n\")\n",
        "\n",
        "    return X_train, X_test, y_train, y_test\n",
        "\n",
        "X_train_clubs, X_test_clubs, y_train_clubs, y_test_clubs = split_features_target(\n",
        "    df_with_clubs, nome='com clubes')\n",
        "\n",
        "X_train_no_clubs, X_test_no_clubs, y_train_no_clubs, y_test_no_clubs = split_features_target(\n",
        "    df_without_clubs, nome='sem clubes')"
      ]
    },
    {
      "cell_type": "markdown",
      "metadata": {},
      "source": [
        "Defini uma função para treinar um modelo de regressão linear. A função recebe os conjuntos de treino (`X_train` e `y_train`) e ajusta o modelo aos dados. De seguida treinei dois modelos com os dados dos 2 cenários que pretendia experimentar."
      ]
    },
    {
      "cell_type": "code",
      "execution_count": 356,
      "metadata": {
        "id": "MtJe641bXs6G"
      },
      "outputs": [],
      "source": [
        "from sklearn.linear_model import LinearRegression\n",
        "\n",
        "def train_linear_regression(X_train, y_train):\n",
        "\n",
        "    model = LinearRegression()\n",
        "    model.fit(X_train, y_train)\n",
        "    return model\n",
        "\n",
        "model_clubs = train_linear_regression(X_train_clubs, y_train_clubs)\n",
        "model_no_clubs = train_linear_regression(X_train_no_clubs, y_train_no_clubs)\n"
      ]
    },
    {
      "cell_type": "markdown",
      "metadata": {},
      "source": [
        "O passo seguinte consiste em realizar as previsões."
      ]
    },
    {
      "cell_type": "code",
      "execution_count": 357,
      "metadata": {
        "id": "KNX_EaREjDN4"
      },
      "outputs": [],
      "source": [
        "predictions_clubs = model_clubs.predict(X_test_clubs)\n",
        "predictions_no_clubs = model_no_clubs.predict(X_test_no_clubs)"
      ]
    },
    {
      "cell_type": "markdown",
      "metadata": {},
      "source": [
        "Por fim passamos ao cálculo das métricas."
      ]
    },
    {
      "cell_type": "code",
      "execution_count": 358,
      "metadata": {
        "colab": {
          "base_uri": "https://localhost:8080/"
        },
        "id": "fpn0NemEjI-x",
        "outputId": "4a401a84-5f4b-4553-ed9f-97a361f32390"
      },
      "outputs": [
        {
          "name": "stdout",
          "output_type": "stream",
          "text": [
            "Avaliação do modelo com clubes\n",
            "  MSE : 18429375796795.17\n",
            "  RMSE: 4292944.89\n",
            "  R²  : 0.8414\n",
            "\n",
            "Avaliação do modelo sem clubes\n",
            "  MSE : 60710460605698.75\n",
            "  RMSE: 7791691.77\n",
            "  R²  : 0.5358\n",
            "\n"
          ]
        }
      ],
      "source": [
        "from sklearn.metrics import mean_squared_error, r2_score\n",
        "\n",
        "def evaluate_model(y_true, y_pred, nome=''):\n",
        "\n",
        "    mse = mean_squared_error(y_true, y_pred)\n",
        "    rmse = np.sqrt(mse)\n",
        "    r2 = r2_score(y_true, y_pred)\n",
        "\n",
        "    print(f'Avaliação do modelo {nome}')\n",
        "    print(f'  MSE : {mse:.2f}')\n",
        "    print(f'  RMSE: {rmse:.2f}')\n",
        "    print(f'  R²  : {r2:.4f}\\n')\n",
        "\n",
        "evaluate_model(y_test_clubs, predictions_clubs, nome='com clubes')\n",
        "evaluate_model(y_test_no_clubs, predictions_no_clubs, nome='sem clubes')"
      ]
    },
    {
      "cell_type": "markdown",
      "metadata": {},
      "source": [
        "### Avaliação e Comparação dos Modelos\n",
        "\n",
        "Foram avaliados dois modelos de regressão linear: um com base apenas nas características do jogador e da transferência, e outro que integra também variáveis relacionadas com o clube comprador. A avaliação foi feita com base em três métricas principais: **MSE (Erro Quadrático Médio)**, **RMSE (Raiz do Erro Quadrático Médio)** e **R² (Coeficiente de Determinação)**.\n",
        "\n",
        "Estes resultados demonstram de forma clara que **a inclusão das variáveis do clube comprador melhora significativamente o desempenho do modelo**. O erro médio das previsões (RMSE) é reduzido em mais de **3 milhões de euros**, e o modelo com clubes é capaz de explicar **84% da variabilidade no valor da transferência**, face a apenas **53%** no modelo sem contexto de clube.\n",
        "\n",
        "O modelo com clubes consegue captar melhor a realidade do mercado de transferências, uma vez que inclui informação crítica como:\n",
        "- Tamanho do plantel do clube comprador;\n",
        "- Percentagem de jogadores estrangeiros;\n",
        "- Número de internacionais\n",
        "\n",
        "Estas variáveis ajudam a caracterizar a capacidade financeira e o perfil de contratação dos clubes, o que permite ao modelo ajustar as previsões de forma mais informada.\n",
        "\n",
        "### Limitações e contexto de aplicação\n",
        "\n",
        "Importa referir que, para este estudo, foram **removidos os outliers** (transferências com valores muito elevados), restringindo o modelo a um universo de transferências **mais modestas e realistas**, como é típico em clubes de média ou pequena dimensão. Este modelo é, portanto, mais adequado para contextos onde **o objetivo é estimar valores de mercado para transações comuns**, não para grandes transferências excecionais de mercado.\n",
        "\n",
        "Além disso, sendo este um modelo de **regressão linear**, assume uma relação linear entre as variáveis independentes e o valor da transferência. Este tipo de modelo não é capaz de captar interações complexas ou relações não lineares entre variáveis — o que pode limitar a sua capacidade de previsão em situações com comportamentos mais dinâmicos do mercado.\n",
        "\n",
        "### Conclusão\n",
        "\n",
        "O modelo com clubes mostra-se **mais robusto e fiável** para prever o valor de transferências de jogadores em contextos realistas. A ausência de variáveis contextuais no segundo modelo resulta num desempenho significativamente inferior, o que valida a importância de incluir fatores relacionados com o poder de compra e o perfil competitivo dos clubes compradores."
      ]
    }
  ],
  "metadata": {
    "colab": {
      "provenance": []
    },
    "kernelspec": {
      "display_name": "Python 3",
      "language": "python",
      "name": "python3"
    },
    "language_info": {
      "codemirror_mode": {
        "name": "ipython",
        "version": 3
      },
      "file_extension": ".py",
      "mimetype": "text/x-python",
      "name": "python",
      "nbconvert_exporter": "python",
      "pygments_lexer": "ipython3",
      "version": "3.12.3"
    }
  },
  "nbformat": 4,
  "nbformat_minor": 0
}
